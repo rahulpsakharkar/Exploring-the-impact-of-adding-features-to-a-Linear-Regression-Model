{
 "cells": [
  {
   "cell_type": "markdown",
   "metadata": {},
   "source": [
    "## The objective is to explore impact of adding features to Linear Regression model.\n",
    "Initially we will select a model with 3 features and go on adding features to it to see impact."
   ]
  },
  {
   "cell_type": "code",
   "execution_count": 1,
   "metadata": {},
   "outputs": [],
   "source": [
    "import numpy as np\n",
    "import pandas as pd"
   ]
  },
  {
   "cell_type": "code",
   "execution_count": 2,
   "metadata": {},
   "outputs": [],
   "source": [
    "dtype_dict = {'bathrooms':float, 'waterfront':int, 'sqft_above':int, 'sqft_living15':float, 'grade':int,\n",
    "              'yr_renovated':int, 'price':float, 'bedrooms':float, 'zipcode':str, 'long':float, 'sqft_lot15':float,\n",
    "              'sqft_living':float, 'floors':str, 'condition':int, 'lat':float, 'date':str,'sqft_basement':int,\n",
    "              'yr_built':int, 'id':str, 'sqft_lot':int, 'view':int}"
   ]
  },
  {
   "cell_type": "code",
   "execution_count": 3,
   "metadata": {},
   "outputs": [],
   "source": [
    "# 1. Load data\n",
    "# 2. Data is already split in train and test\n",
    "kc_train = pd.read_csv(r'.\\..\\Datasets\\kc_house_train_data.csv')\n",
    "kc_test = pd.read_csv(r'.\\..\\Datasets\\kc_house_test_data.csv')"
   ]
  },
  {
   "cell_type": "markdown",
   "metadata": {},
   "source": [
    "#### 3. Although we often think of multiple regression as including multiple different features (e.g. # of bedrooms, square feet, and # of bathrooms) but we can also consider transformations of existing variables e.g. the log of the square feet or even \"interaction\" variables such as the product of bedrooms and bathrooms. Add 4 new variables in both your train_data and test_data. \n",
    "\n",
    "* ‘bedrooms_squared’ = ‘bedrooms’*‘bedrooms’\n",
    "* ‘bed_bath_rooms’ = ‘bedrooms’*‘bathrooms’\n",
    "* ‘log_sqft_living’ = log(‘sqft_living’)\n",
    "* ‘lat_plus_long’ =  ‘lat’ + ‘long’\n",
    "                                                                                         \n",
    "Before we continue let’s explain these new variables:\n",
    "\n",
    "* Squaring bedrooms will increase the separation between not many bedrooms (e.g. 1) and lots of bedrooms (e.g. 4) since 1^2 = 1 but 4^2 = 16. Consequently this variable will mostly affect houses with many bedrooms.\n",
    "* Bedrooms times bathrooms is what's called an \"interaction\" variable. It is large when both of them are large.\n",
    "* Taking the log of square feet has the effect of bringing large values closer together and spreading out small values.\n",
    "* Adding latitude to longitude is non-sensical but we will do it anyway to see impact"
   ]
  },
  {
   "cell_type": "code",
   "execution_count": 4,
   "metadata": {},
   "outputs": [],
   "source": [
    "# On train data\n",
    "kc_train['bedrooms_squared'] = pow(kc_train['bedrooms'], 2)\n",
    "kc_train['bed_bath_rooms'] = kc_train['bedrooms'] * kc_train['bathrooms']\n",
    "kc_train['log_sqft_living'] = np.log(kc_train['sqft_living'])\n",
    "# Adding latitude to longitude is non-sensical but we will do it anyway to see impact\n",
    "kc_train['lat_plus_long'] = kc_train['lat'] + kc_train['long']\n",
    "\n",
    "# On test data\n",
    "kc_test['bedrooms_squared'] = pow(kc_test['bedrooms'], 2)\n",
    "kc_test['bed_bath_rooms'] = kc_test['bedrooms'] * kc_test['bathrooms']\n",
    "kc_test['log_sqft_living'] = np.log(kc_test['sqft_living'])\n",
    "# Adding latitude to longitude is non-sensical but we will do it anyway to see impact\n",
    "kc_test['lat_plus_long'] = kc_test['lat'] + kc_test['long']"
   ]
  },
  {
   "cell_type": "code",
   "execution_count": 5,
   "metadata": {},
   "outputs": [
    {
     "data": {
      "text/plain": [
       "bedrooms_squared    12.446678\n",
       "bed_bath_rooms       7.503902\n",
       "log_sqft_living      7.550275\n",
       "lat_plus_long      -74.653334\n",
       "dtype: float64"
      ]
     },
     "execution_count": 5,
     "metadata": {},
     "output_type": "execute_result"
    }
   ],
   "source": [
    "# 4. what are the mean (arithmetic average) values of 4 new variables on TEST data?\n",
    "\n",
    "kc_test.mean(axis=0)[-4:]"
   ]
  },
  {
   "cell_type": "markdown",
   "metadata": {},
   "source": [
    "#### 5. Use a regression function to estimate the regression coefficients/weights for predicting ‘price’ for the following three models:\n",
    "\n",
    "* Model 1: ‘sqft_living’, ‘bedrooms’, ‘bathrooms’, ‘lat’, and ‘long’\n",
    "* Model 2: ‘sqft_living’, ‘bedrooms’, ‘bathrooms’, ‘lat’,‘long’, and ‘bed_bath_rooms’\n",
    "* Model 3: ‘sqft_living’, ‘bedrooms’, ‘bathrooms’, ‘lat’,‘long’, ‘bed_bath_rooms’, ‘bedrooms_squared’, ‘log_sqft_living’, and ‘lat_plus_long’\n",
    "\n",
    "We can see that the three models here are “nested” in that all of the features of the Model 1 are in Model 2 and all of the features of Model 2 are in Model 3.  "
   ]
  },
  {
   "cell_type": "code",
   "execution_count": 6,
   "metadata": {},
   "outputs": [],
   "source": [
    "from sklearn.linear_model import LinearRegression\n",
    "\n",
    "lr1 = LinearRegression()\n",
    "lr2 = LinearRegression()\n",
    "lr3 = LinearRegression()"
   ]
  },
  {
   "cell_type": "code",
   "execution_count": 7,
   "metadata": {},
   "outputs": [],
   "source": [
    "# Create three feature lists for three models\n",
    "\n",
    "l1 = ['sqft_living', 'bedrooms', 'bathrooms', 'lat', 'long']\n",
    "l2 = l1 + ['bed_bath_rooms']\n",
    "l3 = l2 + ['bedrooms_squared', 'log_sqft_living', 'lat_plus_long']\n",
    "\n",
    "X1 = kc_train[l1]\n",
    "X2 = kc_train[l2]\n",
    "X3 = kc_train[l3]\n",
    "y = kc_train['price']"
   ]
  },
  {
   "cell_type": "code",
   "execution_count": 8,
   "metadata": {},
   "outputs": [],
   "source": [
    "# Learn all three models on the TRAINING data set.\n",
    "m1 = lr1.fit(X1, y)\n",
    "m2 = lr2.fit(X2, y)\n",
    "m3 = lr3.fit(X3, y)"
   ]
  },
  {
   "cell_type": "code",
   "execution_count": 9,
   "metadata": {},
   "outputs": [
    {
     "data": {
      "text/plain": [
       "array([ 3.12258646e+02, -5.95865332e+04,  1.57067421e+04,  6.58619264e+05,\n",
       "       -3.09374351e+05])"
      ]
     },
     "execution_count": 9,
     "metadata": {},
     "output_type": "execute_result"
    }
   ],
   "source": [
    "# 6. What is the sign (positive or negative) for the coefficient/weight for ‘bathrooms’ in Model 1?\n",
    "# Ans: Positive\n",
    "\n",
    "m1.coef_"
   ]
  },
  {
   "cell_type": "code",
   "execution_count": 10,
   "metadata": {},
   "outputs": [
    {
     "data": {
      "text/plain": [
       "array([ 3.06610053e+02, -1.13446368e+05, -7.14613083e+04,  6.54844630e+05,\n",
       "       -2.94298969e+05,  2.55796520e+04])"
      ]
     },
     "execution_count": 10,
     "metadata": {},
     "output_type": "execute_result"
    }
   ],
   "source": [
    "# 7. What is the sign (positive or negative) for the coefficient/weight for ‘bathrooms’ in Model 2?\n",
    "# Ans: Negative\n",
    "\n",
    "m2.coef_"
   ]
  },
  {
   "cell_type": "code",
   "execution_count": 11,
   "metadata": {},
   "outputs": [],
   "source": [
    "# 8. Is the sign for the coefficient the same in both models? Think about why this might be the case.\n",
    "# Ans: No, not same. This is because addition of a new feature 'bed_bath_rooms' while creating model 2 from model 1.\n",
    "# This new feature 'bed_bath_rooms' has reduced weight of feature ‘bathrooms’."
   ]
  },
  {
   "cell_type": "code",
   "execution_count": 12,
   "metadata": {},
   "outputs": [],
   "source": [
    "# 9. Now using three estimated models compute the RSS (Residual Sum of Squares) on the Training data.\n",
    "\n",
    "def rss(model, input_feature, actual_output):\n",
    "    predicted_output = model.predict(input_feature)\n",
    "    \n",
    "    return np.sum(np.square(actual_output - predicted_output))"
   ]
  },
  {
   "cell_type": "code",
   "execution_count": 13,
   "metadata": {},
   "outputs": [
    {
     "name": "stdout",
     "output_type": "stream",
     "text": [
      "RSS1 on train data:  967879963049546.0\n",
      "RSS2 on train data:  958419635074069.4\n",
      "RSS3 on train data:  903436455050479.1\n"
     ]
    }
   ],
   "source": [
    "rss1_train = rss(m1, kc_train[l1], y)\n",
    "rss2_train = rss(m2, kc_train[l2], y)\n",
    "rss3_train = rss(m3, kc_train[l3], y)\n",
    "\n",
    "print(\"RSS1 on train data: \", rss1_train)\n",
    "print(\"RSS2 on train data: \", rss2_train)\n",
    "print(\"RSS3 on train data: \", rss3_train)"
   ]
  },
  {
   "cell_type": "code",
   "execution_count": 14,
   "metadata": {},
   "outputs": [],
   "source": [
    "# 10. Which model (1, 2 or 3) had the lowest RSS on TRAINING data?\n",
    "\n",
    "# Ans: Model 3 had the lowest RSS on TRAINING data."
   ]
  },
  {
   "cell_type": "code",
   "execution_count": 15,
   "metadata": {},
   "outputs": [
    {
     "name": "stdout",
     "output_type": "stream",
     "text": [
      "RSS1 on test data:  225500469795490.3\n",
      "RSS2 on test data:  223377462976466.88\n",
      "RSS3 on test data:  259236319207179.25\n"
     ]
    }
   ],
   "source": [
    "# 11. Now using three estimated models compute the RSS on the Testing data.\n",
    "\n",
    "y = kc_test['price']\n",
    "\n",
    "rss1_test = rss(m1, kc_test[l1], y)\n",
    "rss2_test = rss(m2, kc_test[l2], y)\n",
    "rss3_test = rss(m3, kc_test[l3], y)\n",
    "\n",
    "print(\"RSS1 on test data: \", rss1_test)\n",
    "print(\"RSS2 on test data: \", rss2_test)\n",
    "print(\"RSS3 on test data: \", rss3_test)"
   ]
  },
  {
   "cell_type": "code",
   "execution_count": 16,
   "metadata": {},
   "outputs": [],
   "source": [
    "# 12. Which model (1, 2, or 3) had the lowest RSS on TESTING data?\n",
    "# Ans: Model 2 had lowest RSS on TESTING data."
   ]
  },
  {
   "cell_type": "code",
   "execution_count": 17,
   "metadata": {},
   "outputs": [],
   "source": [
    "# 13. Did you get the same answer for 9 and 11? Why the change?\n",
    "# Ans: No, This can be because model 1 was overfitted for train data but did not do well for test data\n",
    "#      whereas model 2 was general fit and did well for test data."
   ]
  },
  {
   "cell_type": "markdown",
   "metadata": {},
   "source": [
    "#### What is we add all features?"
   ]
  },
  {
   "cell_type": "code",
   "execution_count": 18,
   "metadata": {},
   "outputs": [
    {
     "data": {
      "text/plain": [
       "718467441225680.5"
      ]
     },
     "execution_count": 18,
     "metadata": {},
     "output_type": "execute_result"
    }
   ],
   "source": [
    "features = ['bathrooms', 'waterfront', 'sqft_above', 'sqft_living15', 'grade', 'yr_renovated', 'bedrooms', \n",
    "            'long', 'sqft_lot15', 'sqft_living', 'condition', 'lat', 'sqft_basement', 'yr_built', 'sqft_lot', 'view']\n",
    "target = 'price'\n",
    "\n",
    "str_features_dict = {'zipcode':str, 'floors':str, 'date':str, 'id':str}\n",
    "\n",
    "model_with_all_features = LinearRegression().fit(kc_train[features], kc_train[target])\n",
    "rss_with_all_features_train = rss(model_with_all_features, kc_train[features], kc_train[target])\n",
    "rss_with_all_features_train"
   ]
  },
  {
   "cell_type": "code",
   "execution_count": 19,
   "metadata": {},
   "outputs": [
    {
     "data": {
      "text/plain": [
       "169296548106284.5"
      ]
     },
     "execution_count": 19,
     "metadata": {},
     "output_type": "execute_result"
    }
   ],
   "source": [
    "rss_with_all_features_test = rss(model_with_all_features, kc_test[features], kc_test[target])\n",
    "rss_with_all_features_test"
   ]
  },
  {
   "cell_type": "code",
   "execution_count": 20,
   "metadata": {},
   "outputs": [],
   "source": [
    "# Adding all numeric features decreased RSS on train data. RSS on test data is low."
   ]
  },
  {
   "cell_type": "markdown",
   "metadata": {},
   "source": [
    "#### Let us add 4 newly created feature and see effect."
   ]
  },
  {
   "cell_type": "code",
   "execution_count": 21,
   "metadata": {},
   "outputs": [
    {
     "data": {
      "text/plain": [
       "654230795179810.5"
      ]
     },
     "execution_count": 21,
     "metadata": {},
     "output_type": "execute_result"
    }
   ],
   "source": [
    "features = ['bathrooms', 'waterfront', 'sqft_above', 'sqft_living15', 'grade', 'yr_renovated', 'bedrooms', \n",
    "            'long', 'sqft_lot15', 'sqft_living', 'condition', 'lat', 'sqft_basement', 'yr_built', 'sqft_lot',\n",
    "            'view', 'bedrooms_squared', 'bed_bath_rooms', 'log_sqft_living', 'lat_plus_long']\n",
    "target = 'price'\n",
    "\n",
    "model_with_all_features_2 = LinearRegression().fit(kc_train[features], kc_train[target])\n",
    "rss_with_all_features_train_2 = rss(model_with_all_features_2, kc_train[features], kc_train[target])\n",
    "rss_with_all_features_train_2"
   ]
  },
  {
   "cell_type": "code",
   "execution_count": 22,
   "metadata": {},
   "outputs": [
    {
     "data": {
      "text/plain": [
       "187430245479008.28"
      ]
     },
     "execution_count": 22,
     "metadata": {},
     "output_type": "execute_result"
    }
   ],
   "source": [
    "rss_with_all_features_test_2 = rss(model_with_all_features_2, kc_test[features], kc_test[target])\n",
    "rss_with_all_features_test_2"
   ]
  },
  {
   "cell_type": "code",
   "execution_count": 23,
   "metadata": {},
   "outputs": [],
   "source": [
    "rss_df = pd.DataFrame({'Model': ['m1', 'm2', 'm3', 'model_with_all_features', 'model_with_all_features_2'],\n",
    "                      'RSS on TRAINING Data': [rss1_train, rss2_train, rss3_train, rss_with_all_features_train,\n",
    "                                              rss_with_all_features_train_2],\n",
    "                      'RSS on TEST Data': [rss1_test, rss2_test, rss3_test, rss_with_all_features_test,\n",
    "                                          rss_with_all_features_test_2]})"
   ]
  },
  {
   "cell_type": "code",
   "execution_count": 24,
   "metadata": {},
   "outputs": [
    {
     "data": {
      "text/html": [
       "<div>\n",
       "<style scoped>\n",
       "    .dataframe tbody tr th:only-of-type {\n",
       "        vertical-align: middle;\n",
       "    }\n",
       "\n",
       "    .dataframe tbody tr th {\n",
       "        vertical-align: top;\n",
       "    }\n",
       "\n",
       "    .dataframe thead th {\n",
       "        text-align: right;\n",
       "    }\n",
       "</style>\n",
       "<table border=\"1\" class=\"dataframe\">\n",
       "  <thead>\n",
       "    <tr style=\"text-align: right;\">\n",
       "      <th></th>\n",
       "      <th>Model</th>\n",
       "      <th>RSS on TRAINING Data</th>\n",
       "      <th>RSS on TEST Data</th>\n",
       "    </tr>\n",
       "  </thead>\n",
       "  <tbody>\n",
       "    <tr>\n",
       "      <th>0</th>\n",
       "      <td>m1</td>\n",
       "      <td>9.678800e+14</td>\n",
       "      <td>2.255005e+14</td>\n",
       "    </tr>\n",
       "    <tr>\n",
       "      <th>1</th>\n",
       "      <td>m2</td>\n",
       "      <td>9.584196e+14</td>\n",
       "      <td>2.233775e+14</td>\n",
       "    </tr>\n",
       "    <tr>\n",
       "      <th>2</th>\n",
       "      <td>m3</td>\n",
       "      <td>9.034365e+14</td>\n",
       "      <td>2.592363e+14</td>\n",
       "    </tr>\n",
       "    <tr>\n",
       "      <th>3</th>\n",
       "      <td>model_with_all_features</td>\n",
       "      <td>7.184674e+14</td>\n",
       "      <td>1.692965e+14</td>\n",
       "    </tr>\n",
       "    <tr>\n",
       "      <th>4</th>\n",
       "      <td>model_with_all_features_2</td>\n",
       "      <td>6.542308e+14</td>\n",
       "      <td>1.874302e+14</td>\n",
       "    </tr>\n",
       "  </tbody>\n",
       "</table>\n",
       "</div>"
      ],
      "text/plain": [
       "                       Model  RSS on TRAINING Data  RSS on TEST Data\n",
       "0                         m1          9.678800e+14      2.255005e+14\n",
       "1                         m2          9.584196e+14      2.233775e+14\n",
       "2                         m3          9.034365e+14      2.592363e+14\n",
       "3    model_with_all_features          7.184674e+14      1.692965e+14\n",
       "4  model_with_all_features_2          6.542308e+14      1.874302e+14"
      ]
     },
     "execution_count": 24,
     "metadata": {},
     "output_type": "execute_result"
    }
   ],
   "source": [
    "rss_df"
   ]
  },
  {
   "cell_type": "code",
   "execution_count": 25,
   "metadata": {},
   "outputs": [],
   "source": [
    "import matplotlib.pyplot as plt\n",
    "%matplotlib inline"
   ]
  },
  {
   "cell_type": "code",
   "execution_count": 26,
   "metadata": {},
   "outputs": [
    {
     "data": {
      "text/plain": [
       "<matplotlib.legend.Legend at 0x1bca34ed3a0>"
      ]
     },
     "execution_count": 26,
     "metadata": {},
     "output_type": "execute_result"
    },
    {
     "data": {
      "image/png": "[encoded data removed]",
      "text/plain": [
       "<Figure size 864x432 with 1 Axes>"
      ]
     },
     "metadata": {
      "needs_background": "light"
     },
     "output_type": "display_data"
    }
   ],
   "source": [
    "plt.figure(figsize = (12,6))\n",
    "plt.plot(rss_df['Model'], rss_df['RSS on TRAINING Data'], label = 'RSS on TRAINING Data')\n",
    "plt.plot(rss_df['Model'], rss_df['RSS on TEST Data'], label = 'RSS on TEST Data')\n",
    "plt.title('RSS Vs Model', fontsize = 16)\n",
    "plt.xlabel('Model')\n",
    "plt.ylabel('RSS')\n",
    "plt.legend()"
   ]
  },
  {
   "cell_type": "code",
   "execution_count": 27,
   "metadata": {},
   "outputs": [],
   "source": [
    "# From above plot is seen that RSS on training data is higher than RSS on test data.\n",
    "# The model is working well with test data."
   ]
  }
 ],
 "metadata": {
  "kernelspec": {
   "display_name": "Python 3",
   "language": "python",
   "name": "python3"
  },
  "language_info": {
   "codemirror_mode": {
    "name": "ipython",
    "version": 3
   },
   "file_extension": ".py",
   "mimetype": "text/x-python",
   "name": "python",
   "nbconvert_exporter": "python",
   "pygments_lexer": "ipython3",
   "version": "3.8.5"
  }
 },
 "nbformat": 4,
 "nbformat_minor": 4
}
